{
 "cells": [
  {
   "cell_type": "code",
   "execution_count": 1,
   "metadata": {
    "id": "Gecwz0_5bchL"
   },
   "outputs": [],
   "source": [
    "import numpy as np\n",
    "import matplotlib.pyplot as plt\n",
    "from scipy.constants import h, c, k, pi"
   ]
  },
  {
   "cell_type": "code",
   "execution_count": 2,
   "metadata": {
    "id": "eODAVCksWQXP"
   },
   "outputs": [],
   "source": [
    "from ipywidgets import interact, interactive, fixed"
   ]
  },
  {
   "cell_type": "code",
   "execution_count": 3,
   "metadata": {
    "id": "hiQZ3aQsvp54"
   },
   "outputs": [],
   "source": [
    "# Autor : Jhonathan Blanco 2211497"
   ]
  },
  {
   "cell_type": "markdown",
   "metadata": {
    "id": "Z_cCab6iWz-3"
   },
   "source": [
    "# *La ley de Planck de la radiacion del cuerpo negro*\n",
    "\n",
    " *Esta ley establece que la radiación del cuerpo negro tiene un espectro de frecuencia continuo y característico que depende solo de la temperatura del cuerpo, llamado espectro de Planck o ley de Planck. El espectro alcanza su punto máximo a una frecuencia característica que se desplaza a frecuencias más altas a medida que aumenta la temperatura y, a temperatura ambiente, la mayor parte de la emisión se encuentra en la región infrarroja del espectro electromagnético, la ecuacion que describe este espectro es:*\n",
    " \n",
    "\n",
    "# $I(λ, T) = \\frac{2πc^2h}{λ^5}\\frac{1}{e^\\frac{hc}{λkT} - 1}$\n",
    "\n",
    " En donde: I(λ, T) es la luminosidad espectral (la potencia por unidad de ángulo sólido y por unidad de área normal a la propagación). h es la constante de Planck; c es la velocidad de la luz en el vacío; k es la constante de Boltzmann; T es la temperatura absoluta del cuerpo.\n"
   ]
  },
  {
   "cell_type": "code",
   "execution_count": 4,
   "metadata": {
    "id": "Yn4-ZIZwYpqu"
   },
   "outputs": [],
   "source": [
    "#Ley de Plank\n",
    "def planck(longitud, temperatura):\n",
    "    I = (2 * pi * (c**2) * h) / (longitud**5 * (np.exp((h * c) / (longitud * k * temperatura)) - 1))\n",
    "    return  I"
   ]
  },
  {
   "cell_type": "code",
   "execution_count": 5,
   "metadata": {
    "id": "fR6zziby-tIM"
   },
   "outputs": [],
   "source": [
    "#Gráfica de arcoiris\n",
    "def luz_visible():\n",
    "  ax = plt.gca()\n",
    "  steps = 100\n",
    "  visible = np.linspace(380e-9, 760e-9, steps)\n",
    "  colormap = plt.cm.gist_rainbow\n",
    "  colors = [colormap(i) for i in np.linspace(0.0, 1.0, steps)]\n",
    "  j = 0\n",
    "\n",
    "  for val in visible:\n",
    "    ax.axvline(val * 1e9, lw=3,\n",
    "    color=colors[-j], alpha=0.3, zorder=-1)\n",
    "    j += 1"
   ]
  },
  {
   "cell_type": "code",
   "execution_count": 6,
   "metadata": {
    "id": "Ry-q-rgkoW_7"
   },
   "outputs": [],
   "source": [
    "def rect(x,y,w,h,c):\n",
    "    ax = plt.gca()\n",
    "    polygon = plt.Rectangle((x,y),w,h,color=c)\n",
    "    ax.add_patch(polygon)\n",
    "\n",
    "#Rellenado de arcoiris\n",
    "def rainbow_fill(X,Y, cmap=plt.get_cmap(\"jet\")):\n",
    "    plt.plot(X,Y,lw=0)  # Plot so the axes scale correctly\n",
    "\n",
    "    dx = X[1]-X[0]\n",
    "    N  = float(X.size)\n",
    "    X1 = np.array\n",
    "\n",
    "    for n, (x,y) in enumerate(zip(X,Y)):\n",
    "      if x > 380 and x < 780:\n",
    "        color = cmap(n/N)\n",
    "        rect(x,0,dx,y,color)\n",
    "\n",
    "def luz_visible_under():\n",
    "  visible = np.linspace(380e-9, 760e-9, 100)\n",
    "  results_vis = []\n",
    "  for temperature in temperature_array:\n",
    "    results_vis.append(planck(visible, temperature))\n",
    "\n",
    "  rainbow_fill(visible * 1e09, results_vis[-1])"
   ]
  },
  {
   "cell_type": "code",
   "execution_count": 7,
   "metadata": {
    "id": "BQd0iuAwaamP"
   },
   "outputs": [],
   "source": [
    "#Asignación de Lamdas y temperaturas.\n",
    "lambda_array = np.linspace(1.0e-9, 2.0e-6, 1000) \n",
    "temperature_array = np.arange(3000, 6001, 1000)"
   ]
  },
  {
   "cell_type": "markdown",
   "metadata": {
    "id": "UfowqlWD2_Ac"
   },
   "source": [
    "# Gráfico interactivo"
   ]
  },
  {
   "cell_type": "code",
   "execution_count": 8,
   "metadata": {
    "colab": {
     "base_uri": "https://localhost:8080/",
     "height": 373,
     "referenced_widgets": [
      "61e4a595fad94677a6bd182f12c821d8",
      "771befe43d2f496bae185da9d163a71a",
      "788cad915c624164a59818ccee5045ff",
      "0169efa21b52465da6cb2274ea0db71b",
      "33221b4033374b3e879682ea10b5f884",
      "04c1894239e045a4846e6c1cd6f7cab7",
      "fc227c86fde8488dbe49c95891ffc1aa"
     ]
    },
    "id": "2YKL5FsXoKyp",
    "outputId": "16896312-526f-4a9a-e9fd-8a53f5ee5a6e"
   },
   "outputs": [
    {
     "data": {
      "application/vnd.jupyter.widget-view+json": {
       "model_id": "47f848117ac243bfadd9097f24b7cb8a",
       "version_major": 2,
       "version_minor": 0
      },
      "text/plain": [
       "interactive(children=(IntSlider(value=500, description='temperature', max=10000, min=500, step=500), Output())…"
      ]
     },
     "metadata": {},
     "output_type": "display_data"
    }
   ],
   "source": [
    "#Función para hacer gráfica interactiva, en funcion de la temperatura.\n",
    "def planck_interactive(wavelength_array, temperature=0):\n",
    "\n",
    "  luz_visible()\n",
    "  results = planck(wavelength_array, temperature)\n",
    "  ax = plt.gca()\n",
    "\n",
    "  ax.grid(linestyle=':', linewidth=1.5)\n",
    "\n",
    "  ax.plot(wavelength_array * 1e9, results, \"k\", label='{} K'.format(temperature), linewidth=3)\n",
    "  ax.legend(loc='upper left', bbox_to_anchor=(1, 1), fontsize=14)\n",
    "\n",
    "  #Escala de la gráfica\n",
    "  ax.ticklabel_format(style='sci', axis='y', scilimits=(0, 0))\n",
    "  ax.yaxis.major.formatter._useMathText = True\n",
    "  ax.figure.canvas.draw()  # Update the text\n",
    "  order_magnitude = ax.yaxis.get_offset_text().get_text().replace('\\\\times',\n",
    "                                                                      '')\n",
    "\n",
    "  ax.yaxis.offsetText.set_visible(False)\n",
    "\n",
    "  #LABELS\n",
    "  plt.xlabel(\"Longitud de onda nm\")\n",
    "  ax.xaxis.label.set_size(\"15\")\n",
    "\n",
    "  plt.ylabel(\"Intensidad (\"+ order_magnitude +\") $w/m^3$\")\n",
    "  ax.yaxis.label.set_size(\"15\")\n",
    "\n",
    "  #Title\n",
    "  ax.set_title('Ley de Planck - Radiación de cuerpo negro', fontsize=20)\n",
    "\n",
    "  equ = \"$I(λ, T) = \\\\frac{2πc^2h}{λ^5}\\\\frac{1}{e^\\\\frac{hc}{λkT} - 1}$\"\n",
    "  imax = np.where(results == max(results))\n",
    "  redondito = round(float(lambda_array[imax] * 1e09), 1)\n",
    "  ax.text(lambda_array[-1] *1.1 * 1e09, 0, \"pico máximo ={}\".format(redondito), size = 13)\n",
    "\n",
    "#Gráfico interactivo\n",
    "graph = interactive(planck_interactive,\n",
    "                    wavelength_array=fixed(lambda_array),\n",
    "                    temperature=(500,10000,500))\n",
    "display(graph)"
   ]
  },
  {
   "cell_type": "markdown",
   "metadata": {
    "id": "pCPzAekT3Lba"
   },
   "source": [
    "# Grafico fijo"
   ]
  },
  {
   "cell_type": "code",
   "execution_count": 9,
   "metadata": {
    "colab": {
     "base_uri": "https://localhost:8080/",
     "height": 358
    },
    "id": "mIYT9jWCciVG",
    "outputId": "ad75ccab-d5e3-44ed-d209-5479cd538878"
   },
   "outputs": [
    {
     "name": "stderr",
     "output_type": "stream",
     "text": [
      "<ipython-input-4-a7d25f533500>:3: RuntimeWarning: overflow encountered in exp\n",
      "  I = (2 * pi * (c**2) * h) / (longitud**5 * (np.exp((h * c) / (longitud * k * temperatura)) - 1))\n"
     ]
    },
    {
     "data": {
      "text/plain": [
       "Text(1000.0, 76964043271156.78, '$I(λ, T) = \\\\frac{2πc^2h}{λ^5}\\\\frac{1}{e^\\\\frac{hc}{λkT} - 1}$')"
      ]
     },
     "execution_count": 9,
     "metadata": {},
     "output_type": "execute_result"
    },
    {
     "data": {
      "image/png": "[encoded data removed]",
      "text/plain": [
       "<Figure size 432x288 with 1 Axes>"
      ]
     },
     "metadata": {
      "needs_background": "light"
     },
     "output_type": "display_data"
    }
   ],
   "source": [
    "#luz_visible()\n",
    "luz_visible_under()\n",
    "\n",
    "results = []\n",
    "for temperature in temperature_array:\n",
    "  results.append(planck(lambda_array, temperature))\n",
    "\n",
    "ax = plt.gca()\n",
    "\n",
    "ax.grid(linestyle=':', linewidth=1.5)\n",
    "\n",
    "#Valor de T sobre las lineas\n",
    "if len(temperature_array) < 5:\n",
    "  \n",
    "  for i in range(len(temperature_array)):\n",
    "    maxi = np.where(results[i] == max(results[i]))\n",
    "    ax.text(lambda_array[maxi] * 1e09, max(results[i]) * 1, '{} K'.format(temperature_array[i]) )\n",
    "\n",
    "  lineco = \"k--\"\n",
    "  for result, temperature in zip(results, temperature_array):\n",
    "    if temperature == temperature_array[-1]:\n",
    "        lineco = \"k\"\n",
    "    ax.plot(lambda_array * 1e9, result, lineco, label='{} K'.format(temperature), linewidth=1.5,)\n",
    "    \n",
    "#Legendas a un lados si hay más de 5 temperaturas\n",
    "else:\n",
    "  colormap = plt.cm.inferno_r\n",
    "  ax.set_prop_cycle(plt.cycler('color', colormap(\n",
    "  np.linspace(0, 1, len(temperature_array)))))\n",
    "  \n",
    "  for result, temperature in zip(results, temperature_array):\n",
    "    ax.plot(lambda_array * 1e9, result, label='{} K'.format(temperature), linewidth=3)\n",
    "    ax.legend(loc='upper left', bbox_to_anchor=(1, 1), fontsize=14)\n",
    "  \n",
    "\n",
    "#Escala de la gráfica\n",
    "ax.ticklabel_format(style='sci', axis='y', scilimits=(0, 0))\n",
    "ax.yaxis.major.formatter._useMathText = True\n",
    "ax.figure.canvas.draw()  # Update the text\n",
    "order_magnitude = ax.yaxis.get_offset_text().get_text().replace('\\\\times',\n",
    "                                                                    '')\n",
    "\n",
    "ax.yaxis.offsetText.set_visible(False)\n",
    "\n",
    "#Legendas\n",
    "plt.xlabel(\"Longitud de onda (nm)\")\n",
    "ax.xaxis.label.set_size(\"15\")\n",
    "\n",
    "plt.ylabel(\"Intensidad [\"+ order_magnitude +\"] $(w/m^3)$\")\n",
    "ax.yaxis.label.set_size(\"15\")\n",
    "\n",
    "#Título\n",
    "ax.set_title('Ley de Planck - Radiación de cuerpo negro', fontsize=20)\n",
    "\n",
    "equ = \"$I(λ, T) = \\\\frac{2πc^2h}{λ^5}\\\\frac{1}{e^\\\\frac{hc}{λkT} - 1}$\"\n",
    "ax.text(max(lambda_array) * 1e09 / 2, max(results[-1]) / 1.3, equ, size= 14)\n",
    "\n"
   ]
  },
  {
   "cell_type": "code",
   "execution_count": null,
   "metadata": {
    "id": "h6OnyitYf34A"
   },
   "outputs": [],
   "source": [
    "\n"
   ]
  },
  {
   "cell_type": "code",
   "execution_count": null,
   "metadata": {
    "id": "58KME5JnzDSk"
   },
   "outputs": [],
   "source": []
  }
 ],
 "metadata": {
  "colab": {
   "collapsed_sections": [],
   "name": "Jhonatan_Blanco_Juan_Celis.ipynb",
   "provenance": []
  },
  "kernelspec": {
   "display_name": "Python 3",
   "language": "python",
   "name": "python3"
  },
  "language_info": {
   "codemirror_mode": {
    "name": "ipython",
    "version": 3
   },
   "file_extension": ".py",
   "mimetype": "text/x-python",
   "name": "python",
   "nbconvert_exporter": "python",
   "pygments_lexer": "ipython3",
   "version": "3.8.5"
  },
  "widgets": {
   "application/vnd.jupyter.widget-state+json": {
    "0169efa21b52465da6cb2274ea0db71b": {
     "model_module": "@jupyter-widgets/base",
     "model_module_version": "1.2.0",
     "model_name": "LayoutModel",
     "state": {
      "_model_module": "@jupyter-widgets/base",
      "_model_module_version": "1.2.0",
      "_model_name": "LayoutModel",
      "_view_count": null,
      "_view_module": "@jupyter-widgets/base",
      "_view_module_version": "1.2.0",
      "_view_name": "LayoutView",
      "align_content": null,
      "align_items": null,
      "align_self": null,
      "border": null,
      "bottom": null,
      "display": null,
      "flex": null,
      "flex_flow": null,
      "grid_area": null,
      "grid_auto_columns": null,
      "grid_auto_flow": null,
      "grid_auto_rows": null,
      "grid_column": null,
      "grid_gap": null,
      "grid_row": null,
      "grid_template_areas": null,
      "grid_template_columns": null,
      "grid_template_rows": null,
      "height": null,
      "justify_content": null,
      "justify_items": null,
      "left": null,
      "margin": null,
      "max_height": null,
      "max_width": null,
      "min_height": null,
      "min_width": null,
      "object_fit": null,
      "object_position": null,
      "order": null,
      "overflow": null,
      "overflow_x": null,
      "overflow_y": null,
      "padding": null,
      "right": null,
      "top": null,
      "visibility": null,
      "width": null
     }
    },
    "04c1894239e045a4846e6c1cd6f7cab7": {
     "model_module": "@jupyter-widgets/controls",
     "model_module_version": "1.5.0",
     "model_name": "SliderStyleModel",
     "state": {
      "_model_module": "@jupyter-widgets/controls",
      "_model_module_version": "1.5.0",
      "_model_name": "SliderStyleModel",
      "_view_count": null,
      "_view_module": "@jupyter-widgets/base",
      "_view_module_version": "1.2.0",
      "_view_name": "StyleView",
      "description_width": "",
      "handle_color": null
     }
    },
    "33221b4033374b3e879682ea10b5f884": {
     "model_module": "@jupyter-widgets/base",
     "model_module_version": "1.2.0",
     "model_name": "LayoutModel",
     "state": {
      "_model_module": "@jupyter-widgets/base",
      "_model_module_version": "1.2.0",
      "_model_name": "LayoutModel",
      "_view_count": null,
      "_view_module": "@jupyter-widgets/base",
      "_view_module_version": "1.2.0",
      "_view_name": "LayoutView",
      "align_content": null,
      "align_items": null,
      "align_self": null,
      "border": null,
      "bottom": null,
      "display": null,
      "flex": null,
      "flex_flow": null,
      "grid_area": null,
      "grid_auto_columns": null,
      "grid_auto_flow": null,
      "grid_auto_rows": null,
      "grid_column": null,
      "grid_gap": null,
      "grid_row": null,
      "grid_template_areas": null,
      "grid_template_columns": null,
      "grid_template_rows": null,
      "height": null,
      "justify_content": null,
      "justify_items": null,
      "left": null,
      "margin": null,
      "max_height": null,
      "max_width": null,
      "min_height": null,
      "min_width": null,
      "object_fit": null,
      "object_position": null,
      "order": null,
      "overflow": null,
      "overflow_x": null,
      "overflow_y": null,
      "padding": null,
      "right": null,
      "top": null,
      "visibility": null,
      "width": null
     }
    },
    "61e4a595fad94677a6bd182f12c821d8": {
     "model_module": "@jupyter-widgets/controls",
     "model_module_version": "1.5.0",
     "model_name": "VBoxModel",
     "state": {
      "_dom_classes": [
       "widget-interact"
      ],
      "_model_module": "@jupyter-widgets/controls",
      "_model_module_version": "1.5.0",
      "_model_name": "VBoxModel",
      "_view_count": null,
      "_view_module": "@jupyter-widgets/controls",
      "_view_module_version": "1.5.0",
      "_view_name": "VBoxView",
      "box_style": "",
      "children": [
       "IPY_MODEL_771befe43d2f496bae185da9d163a71a",
       "IPY_MODEL_788cad915c624164a59818ccee5045ff"
      ],
      "layout": "IPY_MODEL_0169efa21b52465da6cb2274ea0db71b"
     }
    },
    "771befe43d2f496bae185da9d163a71a": {
     "model_module": "@jupyter-widgets/controls",
     "model_module_version": "1.5.0",
     "model_name": "IntSliderModel",
     "state": {
      "_dom_classes": [],
      "_model_module": "@jupyter-widgets/controls",
      "_model_module_version": "1.5.0",
      "_model_name": "IntSliderModel",
      "_view_count": null,
      "_view_module": "@jupyter-widgets/controls",
      "_view_module_version": "1.5.0",
      "_view_name": "IntSliderView",
      "continuous_update": true,
      "description": "temperature",
      "description_tooltip": null,
      "disabled": false,
      "layout": "IPY_MODEL_33221b4033374b3e879682ea10b5f884",
      "max": 10000,
      "min": 500,
      "orientation": "horizontal",
      "readout": true,
      "readout_format": "d",
      "step": 500,
      "style": "IPY_MODEL_04c1894239e045a4846e6c1cd6f7cab7",
      "value": 7500
     }
    },
    "788cad915c624164a59818ccee5045ff": {
     "model_module": "@jupyter-widgets/output",
     "model_module_version": "1.0.0",
     "model_name": "OutputModel",
     "state": {
      "_dom_classes": [],
      "_model_module": "@jupyter-widgets/output",
      "_model_module_version": "1.0.0",
      "_model_name": "OutputModel",
      "_view_count": null,
      "_view_module": "@jupyter-widgets/output",
      "_view_module_version": "1.0.0",
      "_view_name": "OutputView",
      "layout": "IPY_MODEL_fc227c86fde8488dbe49c95891ffc1aa",
      "msg_id": "",
      "outputs": [
       {
        "name": "stderr",
        "output_type": "stream",
        "text": [
         "/usr/local/lib/python3.7/dist-packages/ipykernel_launcher.py:3: RuntimeWarning: overflow encountered in exp\n",
         "  This is separate from the ipykernel package so we can avoid doing imports until\n"
        ]
       },
       {
        "data": {
         "image/png": "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\n",
         "text/plain": "<Figure size 432x288 with 1 Axes>"
        },
        "metadata": {
         "needs_background": "light"
        },
        "output_type": "display_data"
       }
      ]
     }
    },
    "fc227c86fde8488dbe49c95891ffc1aa": {
     "model_module": "@jupyter-widgets/base",
     "model_module_version": "1.2.0",
     "model_name": "LayoutModel",
     "state": {
      "_model_module": "@jupyter-widgets/base",
      "_model_module_version": "1.2.0",
      "_model_name": "LayoutModel",
      "_view_count": null,
      "_view_module": "@jupyter-widgets/base",
      "_view_module_version": "1.2.0",
      "_view_name": "LayoutView",
      "align_content": null,
      "align_items": null,
      "align_self": null,
      "border": null,
      "bottom": null,
      "display": null,
      "flex": null,
      "flex_flow": null,
      "grid_area": null,
      "grid_auto_columns": null,
      "grid_auto_flow": null,
      "grid_auto_rows": null,
      "grid_column": null,
      "grid_gap": null,
      "grid_row": null,
      "grid_template_areas": null,
      "grid_template_columns": null,
      "grid_template_rows": null,
      "height": null,
      "justify_content": null,
      "justify_items": null,
      "left": null,
      "margin": null,
      "max_height": null,
      "max_width": null,
      "min_height": null,
      "min_width": null,
      "object_fit": null,
      "object_position": null,
      "order": null,
      "overflow": null,
      "overflow_x": null,
      "overflow_y": null,
      "padding": null,
      "right": null,
      "top": null,
      "visibility": null,
      "width": null
     }
    }
   }
  }
 },
 "nbformat": 4,
 "nbformat_minor": 1
}
